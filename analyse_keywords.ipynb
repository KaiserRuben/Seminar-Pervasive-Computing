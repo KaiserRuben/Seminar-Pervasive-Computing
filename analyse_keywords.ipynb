{
 "cells": [
  {
   "cell_type": "code",
   "execution_count": null,
   "id": "be5129d8570ef825",
   "metadata": {},
   "outputs": [],
   "source": [
    "import pickle\n",
    "import pandas as pd\n",
    "from utils.data_tools import flatten"
   ]
  },
  {
   "cell_type": "code",
   "execution_count": null,
   "id": "initial_id",
   "metadata": {},
   "outputs": [],
   "source": [
    "# get pickle from ./data/keyword_paper_dict.pkl\n",
    "with open('./data/keyword_paper_dict.pkl', 'rb') as f:\n",
    "    keyword_paper_dict = pickle.load(f)"
   ]
  },
  {
   "cell_type": "code",
   "execution_count": null,
   "id": "a2c3795721e9f23b",
   "metadata": {},
   "outputs": [],
   "source": [
    "# data cleaning\n",
    "\n",
    "# combine keywords like \"qos\" and \"qos,\" into \"qos\", same for other cases\n",
    "cleaned_keyword_paper_dict = {}\n",
    "for key in keyword_paper_dict.keys():\n",
    "    if key[-1] == \",\":\n",
    "        new_key = key[:-1]\n",
    "        if new_key in cleaned_keyword_paper_dict.keys():\n",
    "            cleaned_keyword_paper_dict[new_key] = pd.concat([cleaned_keyword_paper_dict[new_key], keyword_paper_dict[key]])\n",
    "            continue\n",
    "    cleaned_keyword_paper_dict[key] = keyword_paper_dict[key]"
   ]
  },
  {
   "cell_type": "markdown",
   "id": "4204c663f7ee8c0e",
   "metadata": {},
   "source": [
    "## Number of Papers per Keyword"
   ]
  },
  {
   "cell_type": "code",
   "execution_count": null,
   "id": "b805260954ed8adf",
   "metadata": {},
   "outputs": [],
   "source": [
    "keyword_paper_number = {key: len(cleaned_keyword_paper_dict[key]) for key in cleaned_keyword_paper_dict.keys()}"
   ]
  },
  {
   "cell_type": "code",
   "execution_count": null,
   "id": "28368cbd18071dab",
   "metadata": {},
   "outputs": [],
   "source": [
    "# build histogram\n",
    "import plotly.express as px\n",
    "import pandas as pd\n",
    "\n",
    "show_top = 30\n",
    "\n",
    "df = pd.DataFrame.from_dict(keyword_paper_number, orient='index').reset_index()\n",
    "df.columns = ['keyword', 'count']\n",
    "df = df.sort_values(by='count', ascending=False)\n",
    "fig = px.bar(df.head(show_top), x='keyword', y='count')\n",
    "fig.update_layout(title=f\"Number of Papers found per Keyword<br /><sub>Showing top {show_top} keywords of {len(df)}. Maximum is 10k papers (didn't get more...)</sub>\", xaxis_title=\"Keyword\", yaxis_title=\"Number of Papers\")\n",
    "\n",
    "fig.show()\n"
   ]
  },
  {
   "cell_type": "code",
   "execution_count": null,
   "id": "b6a079c9c651b592",
   "metadata": {},
   "outputs": [],
   "source": [
    "all_paper_dict = pd.DataFrame()\n",
    "for key in keyword_paper_dict.keys():\n",
    "    all_paper_dict = pd.concat([all_paper_dict, keyword_paper_dict[key]])\n",
    "len_before_removing_duplicates = len(all_paper_dict)\n",
    "all_paper_dict = all_paper_dict.drop_duplicates(subset=\"DOI\") # remove duplicates based on DOI\n",
    "len_after_removing_duplicates = len(all_paper_dict)\n",
    "all_paper_dict = all_paper_dict.sort_values(by=\"is-referenced-by-count\", ascending=False).reset_index(drop=True)\n",
    "print(f\"Removed {len_before_removing_duplicates - len_after_removing_duplicates} duplicates. {len_after_removing_duplicates} papers left.\")\n",
    "all_paper_dict.head()"
   ]
  },
  {
   "cell_type": "code",
   "execution_count": null,
   "id": "ed2675bd840f04d9",
   "metadata": {},
   "outputs": [],
   "source": [
    "# build histogram\n",
    "import plotly.express as px\n",
    "import pandas as pd\n",
    "\n",
    "show_top = 30\n",
    "\n",
    "df = pd.DataFrame.from_dict(keyword_counter, orient='index').reset_index()\n",
    "df.columns = ['keyword', 'count']\n",
    "df = df.sort_values(by='count', ascending=False)\n",
    "fig = px.bar(df.head(show_top), x='keyword', y='count')\n",
    "fig.update_layout(title=f\"Popularity of Keywords<br /><sub>Showing top {show_top} keywords of {len(df)}</sub>\", xaxis_title=\"Keyword\", yaxis_title=\"Number of Papers\")"
   ]
  },
  {
   "cell_type": "markdown",
   "id": "d4573b4cfcdc739d",
   "metadata": {},
   "source": [
    "### Lets see how the number of keyword is distributed"
   ]
  },
  {
   "cell_type": "code",
   "execution_count": null,
   "id": "6084f2c0ee94faed",
   "metadata": {},
   "outputs": [],
   "source": [
    "# build violin plot and a boxplot for comparison\n",
    "import plotly.express as px\n",
    "from plotly.subplots import make_subplots\n",
    "import plotly.graph_objects as go\n",
    "import pandas as pd\n",
    "\n",
    "fig = make_subplots(rows=1, cols=2)\n",
    "\n",
    "fig.add_trace(go.Violin(y=df['count'], box_visible=True, line_color='blue', meanline_visible=True, fillcolor='lightseagreen', opacity=0.6, name='Violin'), row=1, col=1)\n",
    "fig.add_trace(go.Box(y=df['count'], boxpoints='all', jitter=0.3, pointpos=-1.8, name='Boxplot (Logarithmic Scale)'), row=1, col=2)\n",
    "\n",
    "fig.update_layout(title=\"Distribution of Number of Papers per Keyword\", yaxis_title=\"Number of Papers\")\n",
    "\n",
    "# make boxplot logarithmic\n",
    "fig.update_yaxes(type=\"log\", row=1, col=2)\n",
    "\n",
    "fig.show()"
   ]
  },
  {
   "cell_type": "code",
   "execution_count": null,
   "id": "9777b844ae5fe6b0",
   "metadata": {},
   "outputs": [],
   "source": []
  }
 ],
 "metadata": {
  "language_info": {
   "name": "python"
  }
 },
 "nbformat": 4,
 "nbformat_minor": 5
}
