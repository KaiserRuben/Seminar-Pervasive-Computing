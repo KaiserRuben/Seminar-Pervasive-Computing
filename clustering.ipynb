{
 "cells": [
  {
   "cell_type": "code",
   "execution_count": null,
   "id": "initial_id",
   "metadata": {},
   "outputs": [],
   "source": [
    "import requests\n",
    "import pandas as pd\n",
    "\n",
    "keyword = 'pervasive computing'"
   ]
  },
  {
   "cell_type": "code",
   "execution_count": null,
   "id": "51fadcb177fe41ff",
   "metadata": {},
   "outputs": [],
   "source": [
    "from sklearn.feature_extraction.text import TfidfVectorizer\n",
    "from sklearn.decomposition import PCA\n",
    "import plotly.express as px"
   ]
  },
  {
   "cell_type": "code",
   "execution_count": null,
   "id": "4eb462ea8e381d0e",
   "metadata": {},
   "outputs": [],
   "source": [
    "# Preprocess and vectorize the text data\n",
    "vectorizer = TfidfVectorizer(stop_words='english')\n",
    "X = vectorizer.fit_transform(df['title'].tolist())\n",
    "\n",
    "# Perform dimensionality reduction with PCA\n",
    "pca = PCA(n_components='mle')\n",
    "X_pca = pca.fit_transform(X.toarray())"
   ]
  },
  {
   "cell_type": "code",
   "execution_count": null,
   "id": "697708dcb73d3c89",
   "metadata": {},
   "outputs": [],
   "source": [
    "# Create an interactive scatter plot with Plotly\n",
    "fig = px.scatter(x=X_pca[:, 0], y=X_pca[:, 1], hover_data=[df['title']], title='Paper Title Similarity')\n",
    "fig.show()"
   ]
  },
  {
   "cell_type": "code",
   "execution_count": null,
   "id": "de4a33be1d5e1d4c",
   "metadata": {},
   "outputs": [],
   "source": []
  }
 ],
 "metadata": {
  "language_info": {
   "name": "python"
  }
 },
 "nbformat": 4,
 "nbformat_minor": 5
}
